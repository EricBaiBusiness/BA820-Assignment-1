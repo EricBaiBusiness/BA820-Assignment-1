{
  "nbformat": 4,
  "nbformat_minor": 0,
  "metadata": {
    "colab": {
      "provenance": []
    },
    "kernelspec": {
      "name": "python3",
      "display_name": "Python 3"
    },
    "language_info": {
      "name": "python"
    }
  },
  "cells": [
    {
      "cell_type": "markdown",
      "source": [
        "# Assignment Prep - Dimension Reduction\n",
        "\n",
        "We will use [Hepatitis C Prediction dataset](https://www.kaggle.com/datasets/fedesoriano/hepatitis-c-dataset). The data set contains laboratory values of blood donors and Hepatitis C patients and demographic values.\n",
        "\n",
        "Opendatasets is a python package which makes it easier to import datasets from Kaggle.\n",
        "\n",
        "Prerequisites:\n",
        "\n",
        "- Kaggle Account (preferrably using BU email ID)\n",
        "\n",
        "Run the following two cells. In the second cell you will be prompted to enter username and key.\n",
        "\n",
        "Use this link - https://www.kaggle.com/settings/account\n",
        "\n",
        "- On the right side of your screen you can see your username.\n",
        "- Scroll down a bit, you will see an API subheading. Click on '**Create new token**'.\n",
        "- It should automatically download a .json file containing your username and key.\n",
        "- Copy paste them into the output of the 2nd cell.\n",
        "\n",
        "Your dataset will be visible in the folders tab on the left side of your colab screen!!"
      ],
      "metadata": {
        "id": "pNu_XlfpW-P-"
      }
    },
    {
      "cell_type": "code",
      "execution_count": null,
      "metadata": {
        "id": "3_ywt5H8K3Jm"
      },
      "outputs": [],
      "source": [
        "!pip install opendatasets"
      ]
    },
    {
      "cell_type": "code",
      "source": [
        "import opendatasets as od\n",
        "import pandas as pd\n",
        "import numpy as np\n",
        "\n",
        "od.download(\n",
        "    \"https://www.kaggle.com/datasets/fedesoriano/hepatitis-c-dataset\")"
      ],
      "metadata": {
        "id": "dkXnPejKXGFe"
      },
      "execution_count": null,
      "outputs": []
    },
    {
      "cell_type": "markdown",
      "source": [
        "### This cell is for installing any python packages you want to use"
      ],
      "metadata": {
        "id": "C7HwlIscY-Ox"
      }
    },
    {
      "cell_type": "code",
      "source": [
        "!pip install your-package-name"
      ],
      "metadata": {
        "id": "yGzPuxZ9Y_Ur"
      },
      "execution_count": null,
      "outputs": []
    },
    {
      "cell_type": "markdown",
      "source": [
        "# Question 1 **(3 Points)**\n",
        "\n",
        "Normalize the features so that all the features have a mean of 0 and standard deviation = 1. Perform any other necessary pre-processing. Clearly state any assumptions you make."
      ],
      "metadata": {
        "id": "k8xjoXgTXg-Z"
      }
    },
    {
      "cell_type": "code",
      "source": [],
      "metadata": {
        "id": "wpvmAnqXXRix"
      },
      "execution_count": null,
      "outputs": []
    },
    {
      "cell_type": "markdown",
      "source": [
        "# Question 2 **(5 Points)**\n",
        "\n",
        "We will first use Principal Component Analysis only to analyze the provided dataset without losing information. Create the appropriate PCA model and use it to Transform the data."
      ],
      "metadata": {
        "id": "VEKnozl_YC0a"
      }
    },
    {
      "cell_type": "code",
      "source": [],
      "metadata": {
        "id": "DeS6x63rZ1dy"
      },
      "execution_count": null,
      "outputs": []
    },
    {
      "cell_type": "markdown",
      "source": [
        "*Your explanation goes here ... (i.e. edit this markdown cell by double clicking here)*"
      ],
      "metadata": {
        "id": "fpmABri0Z2Dm"
      }
    },
    {
      "cell_type": "markdown",
      "source": [
        "# Question 3 **(5 Points)**\n",
        "\n",
        "Find out the amount of variance captured by each principal component. Construct a scree plot to visualize this."
      ],
      "metadata": {
        "id": "fT_CmpeBZ62d"
      }
    },
    {
      "cell_type": "code",
      "source": [],
      "metadata": {
        "id": "SeJXkSTFaRI3"
      },
      "execution_count": null,
      "outputs": []
    },
    {
      "cell_type": "markdown",
      "source": [
        "# Question 4 **(5 Points)**\n",
        "\n",
        "Which components are required to capture at least 85% of the variance? Explain concisely through concepts and visualizations."
      ],
      "metadata": {
        "id": "Dj0VwXvFaSNh"
      }
    },
    {
      "cell_type": "code",
      "source": [],
      "metadata": {
        "id": "TXGib7x8abOW"
      },
      "execution_count": null,
      "outputs": []
    },
    {
      "cell_type": "markdown",
      "source": [
        "*Your explanation goes here ... (i.e. edit this markdown\n",
        "cell by double clicking here)*\n",
        "\n"
      ],
      "metadata": {
        "id": "CmLeWTDUabvx"
      }
    },
    {
      "cell_type": "markdown",
      "source": [
        "# Question 5 **(5 Points)**\n",
        "\n",
        "1. Perform K-means clustering using the original features. Explain how you decided on the optimal number of clusters.\n",
        "2. Using the same number of clusters, perform clustering but using the principal components that capture 85% of the variance this time.\n",
        "3. Choose an appropriate metric and measure whether using PCA has helped or hurt the clustering outcome. Explain your answer."
      ],
      "metadata": {
        "id": "CHwqXsBsaea6"
      }
    },
    {
      "cell_type": "code",
      "source": [],
      "metadata": {
        "id": "J0Xo2HIobTA8"
      },
      "execution_count": null,
      "outputs": []
    },
    {
      "cell_type": "markdown",
      "source": [
        "*Your explanation goes here ... (i.e. edit this markdown cell by double clicking here)*"
      ],
      "metadata": {
        "id": "MgVLkrrfbTp8"
      }
    },
    {
      "cell_type": "markdown",
      "source": [
        "# Question 6 **(7 Points)**\n",
        "\n",
        "1. Using the PCA model with 85% of the variance, we want to reconstruct the original data using inverse PCA.\n",
        "\n",
        "2. Find the percentage of patients that were significantly and unfavorably affected by the dimensionality reduction we performed. What do you think is a good threshold for deciding whether \"the reconstruction\" was poor? Justify your answer. It may be helpful to use a [cumulative histogram](https://matplotlib.org/stable/gallery/statistics/histogram_cumulative.html) to answer the question visually.\n",
        "\n",
        "3. Find the patient that was least faithfully reconstructed. Which original attribute(s) were most unfavorably affected by the dimensionality reduction in his/her case?"
      ],
      "metadata": {
        "id": "IGCwEykybZjW"
      }
    },
    {
      "cell_type": "code",
      "source": [],
      "metadata": {
        "id": "8yxPKDZDblUv"
      },
      "execution_count": null,
      "outputs": []
    },
    {
      "cell_type": "markdown",
      "source": [
        "*Your explanation goes here ... (i.e. edit this markdown cell by double clicking here)*"
      ],
      "metadata": {
        "id": "w-GGsETbbl55"
      }
    }
  ]
}