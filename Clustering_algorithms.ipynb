{
  "nbformat": 4,
  "nbformat_minor": 0,
  "metadata": {
    "colab": {
      "provenance": []
    },
    "kernelspec": {
      "name": "python3",
      "display_name": "Python 3"
    },
    "language_info": {
      "name": "python"
    }
  },
  "cells": [
    {
      "cell_type": "markdown",
      "source": [
        "# Assignment Prep - K Means\n",
        "\n",
        "For this part of the assignment, we will use Yahoo finance. Yfinance is the package that will construct our dataset.\n",
        "\n",
        "- You need to pick 5 stocks (Tickers). Reference - https://stockanalysis.com/stocks/\n",
        "\n",
        "- In the 2nd cell, you will need to replace the text \"YOUR TICKERS GO HERE\" with comma separated Tickers i.e. [\"AAPL\",\"MSFT\",\"SPY\",\"KO\",\"AMZN\"].\n",
        "\n",
        "- Do not use the same stocks outlined in the above example.\n",
        "\n",
        "- The 1st cell contains installation commands for specific package versions. Do not change them else the dataset generation code will not work.\n",
        "\n",
        "- Once you enter your tickers, run the cell, in the folders tab in the left side of your colab screen, you will be able to see the .csv files."
      ],
      "metadata": {
        "id": "p_6C7OZAo-H4"
      }
    },
    {
      "cell_type": "code",
      "source": [
        "!pip install yfinance==0.1.62\n",
        "!pip install pandas==1.3.5"
      ],
      "metadata": {
        "id": "i-5sO-SDnWWR"
      },
      "execution_count": null,
      "outputs": []
    },
    {
      "cell_type": "code",
      "execution_count": null,
      "metadata": {
        "id": "ahnmjE8vnQMN"
      },
      "outputs": [],
      "source": [
        "from pandas_datareader import data as web\n",
        "import os\n",
        "import pandas as pd\n",
        "import yfinance as yf\n",
        "\n",
        "def get_stock(ticker, start_date, end_date):\n",
        "    try:\n",
        "        df = yf.download(ticker, start=start_date, end=end_date)\n",
        "        df['Ticker'] = ticker\n",
        "        df['Return'] = df['Adj Close'].pct_change()\n",
        "        df['Return'].fillna(0, inplace = True)\n",
        "        df['Date'] = df.index\n",
        "        df['Date'] = pd.to_datetime(df['Date'])\n",
        "        df['Month'] = df['Date'].dt.month\n",
        "        df['Year'] = df['Date'].dt.year\n",
        "        df['Day'] = df['Date'].dt.day\n",
        "        for col in ['Open', 'High', 'Low', 'Close', 'Adj Close']:\n",
        "            df[col] = df[col].round(2)\n",
        "        df['Weekday'] = df['Date'].dt.day_name()\n",
        "        df['Week_Number'] = df['Date'].dt.strftime('%U')\n",
        "        df['Year_Week'] = df['Date'].dt.strftime('%Y-%U')\n",
        "        col_list = ['Ticker','Date', 'Year', 'Month', 'Day', 'Weekday',\n",
        "                    'Week_Number', 'Year_Week', 'Open',\n",
        "                    'High', 'Low', 'Close', 'Volume', 'Adj Close',\n",
        "                    'Return']\n",
        "        df = df[col_list]\n",
        "        return df\n",
        "    except Exception as error:\n",
        "        print(error)\n",
        "        return None\n",
        "\n",
        "ticker=[\"YOUR TICKERS GO HERE\"] # [\"AAPL\",\"MSFT\",\"SPY\",\"KO\",\"AMZN\"]\n",
        "for stock in ticker:\n",
        "    try:\n",
        "        input_dir = os.getcwd()\n",
        "        output_file = os.path.join(input_dir, stock + '.csv')\n",
        "        df = get_stock(stock, start_date='2022-01-01', end_date='2022-12-31')\n",
        "        df.to_csv(output_file, index=False)\n",
        "        print('wrote ' + str(len(df)) + ' lines to file: ' + output_file)\n",
        "    except Exception as e:\n",
        "        print(e)\n",
        "        print('Failed to fetch data for', stock)"
      ]
    },
    {
      "cell_type": "markdown",
      "source": [
        "### This cell is for installing any python packages you want to use"
      ],
      "metadata": {
        "id": "mMTVbyKEs1IE"
      }
    },
    {
      "cell_type": "code",
      "source": [
        "!pip install your-package-name"
      ],
      "metadata": {
        "id": "gmKn8t4Inph-"
      },
      "execution_count": null,
      "outputs": []
    },
    {
      "cell_type": "markdown",
      "source": [
        "# Question 1 - Feature Engineering"
      ],
      "metadata": {
        "id": "VaRmtwZItEIe"
      }
    },
    {
      "cell_type": "markdown",
      "source": [
        "Merge all 5 datasets."
      ],
      "metadata": {
        "id": "XovmdnPF1jfi"
      }
    },
    {
      "cell_type": "code",
      "source": [],
      "metadata": {
        "id": "V448bvw31cLE"
      },
      "execution_count": null,
      "outputs": []
    },
    {
      "cell_type": "markdown",
      "source": [
        "Create four new features - **(9 Points)**\n",
        "\n",
        "- Mean Return\n",
        "- Volatility (Standard Deviation)\n",
        "- High Low Spread (High price - Low price)\n",
        "- Average Trading volume\n",
        "\n",
        "Basically, you will need to create a new dataset, wherein each week for each ticker will be represented by a single row. This dataset should have columns - Ticker, Week_Number, Mean_Return, Volatility, High_Low_Spread, Average_Trading_Volume. For example, the mean_return for a week with respect to a stock will be the mean of returns for all the days in that week.\n",
        "\n",
        "*Hint: For each ticker, there should be around 52 data points in the new dataset.*"
      ],
      "metadata": {
        "id": "xIpNaj2H1nHM"
      }
    },
    {
      "cell_type": "code",
      "source": [],
      "metadata": {
        "id": "izttIZjx24WC"
      },
      "execution_count": null,
      "outputs": []
    },
    {
      "cell_type": "markdown",
      "source": [
        "# Question 2 - K Means\n"
      ],
      "metadata": {
        "id": "g7tz9WN93Zuv"
      }
    },
    {
      "cell_type": "markdown",
      "source": [
        "On the new dataset created in the previous question, perform K means clustering with k = 3 *based on the following features only: Volatility, High Low Spread, and Average Trading volume*. Use a custom initialization by randomly selecting 3 data points from the dataset as initial centroids.\n",
        "\n",
        "*Use these features for clustering in all upcoming questions.*\n",
        "\n",
        "*Perform any necessary pre-processing*\n",
        "\n",
        "**(4 points)**"
      ],
      "metadata": {
        "id": "9X3PbRHL4aAV"
      }
    },
    {
      "cell_type": "code",
      "source": [],
      "metadata": {
        "id": "lAD2Joid32_B"
      },
      "execution_count": null,
      "outputs": []
    },
    {
      "cell_type": "markdown",
      "source": [
        "Create two 3D figures using plotly:\n",
        "- a plot with points colored based on the clustering obtained above.\n",
        "- a plot with points colored based on the clustering obtained by initializing the centroids to some outliers. You are welcome to find these outliers visually or numerically.\n",
        "\n",
        "Which clustering scheme was better? How did you make that evaluation? Explain thoroughly.\n",
        "\n",
        "*For the upcoming questions, answer based on the best of the two clusterings you just plotted.*\n",
        "\n",
        "**(3 Points)**"
      ],
      "metadata": {
        "id": "iVX9YLfF6yQz"
      }
    },
    {
      "cell_type": "code",
      "source": [],
      "metadata": {
        "id": "pIWbRHJj7PNL"
      },
      "execution_count": null,
      "outputs": []
    },
    {
      "cell_type": "markdown",
      "source": [
        "Looking at the resulting clustering\n",
        "\n",
        "1. Do you think the different clusters highlight specific segments or trends in the stock market?\n",
        "2. Is the obtained clustering related to \"Mean Return\"? Explain you answer with the proper visualizations.\n",
        "\n",
        "**(2 Points)**"
      ],
      "metadata": {
        "id": "d_qkN5yR7pya"
      }
    },
    {
      "cell_type": "markdown",
      "source": [
        "*Your explanation goes here ... (i.e. edit this markdown\n",
        "cell by double clicking here)*"
      ],
      "metadata": {
        "id": "5bfcMEGL7w5Z"
      }
    },
    {
      "cell_type": "code",
      "source": [
        "# Python code if any"
      ],
      "metadata": {
        "id": "-HWOPux88DXN"
      },
      "execution_count": null,
      "outputs": []
    },
    {
      "cell_type": "markdown",
      "source": [
        "# Question 3 - Optimal K\n",
        "\n",
        "### For both Optimal K questions, 2 <= k <= 10.\n",
        "\n",
        "### Also present any visualizations if necessary."
      ],
      "metadata": {
        "id": "69GZvH-G-cGF"
      }
    },
    {
      "cell_type": "markdown",
      "source": [
        "Write python code to determine optimal k using the elbow method. **(2 Points)**"
      ],
      "metadata": {
        "id": "zvMz1DhK-fkP"
      }
    },
    {
      "cell_type": "code",
      "source": [],
      "metadata": {
        "id": "R-QN8tCl-d9p"
      },
      "execution_count": null,
      "outputs": []
    },
    {
      "cell_type": "markdown",
      "source": [
        "Write python code to determine optimal k using the silhouette method. **(2 Points)**\n",
        "\n",
        "Reference: https://vitalflux.com/kmeans-silhouette-score-explained-with-python-example/"
      ],
      "metadata": {
        "id": "ldhTd4m--oeE"
      }
    },
    {
      "cell_type": "code",
      "source": [],
      "metadata": {
        "id": "6lkOc_4k-tBq"
      },
      "execution_count": null,
      "outputs": []
    },
    {
      "cell_type": "markdown",
      "source": [
        "Considering both methods, what do you think should be the optimal K. Explain in details? **(2 Points)**"
      ],
      "metadata": {
        "id": "ndNHISQI_cOH"
      }
    },
    {
      "cell_type": "markdown",
      "source": [
        "*Your explanation goes here ... (i.e. edit this markdown\n",
        "cell by double clicking here)*"
      ],
      "metadata": {
        "id": "dPwHf_E9_qYk"
      }
    },
    {
      "cell_type": "markdown",
      "source": [
        "# Question 4 - Hierarchical Clustering\n",
        "\n",
        "Perform Hierarchical Clustering with K ranging from 2 to 11. Use the silhouette score to determine optimal K. Plot a graph with K on the X-axis and silhouette score on the Y-axis. **(4 Points)**"
      ],
      "metadata": {
        "id": "2afzzGpI_4qH"
      }
    },
    {
      "cell_type": "code",
      "source": [],
      "metadata": {
        "id": "Kob925eg_pdI"
      },
      "execution_count": null,
      "outputs": []
    },
    {
      "cell_type": "markdown",
      "source": [
        "After performing hierarchical clustering, you decide to apply your model to new incoming data (test data). Assuming the test data comes in a dataframe similar in shape to the original data you used to create the model, how would you use the same clustering arrangement with the new dataset? Explain any observations or challenges you find relevant. **(2 Points)**"
      ],
      "metadata": {
        "id": "3mt299VqGQly"
      }
    },
    {
      "cell_type": "markdown",
      "source": [
        "*Your explanation goes here ... (i.e. edit this markdown\n",
        "cell by double clicking here)*"
      ],
      "metadata": {
        "id": "qgMnRli7HtUQ"
      }
    }
  ]
}